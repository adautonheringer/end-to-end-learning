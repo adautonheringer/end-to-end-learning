{
 "cells": [
  {
   "cell_type": "code",
   "execution_count": 49,
   "metadata": {
    "collapsed": true,
    "pycharm": {
     "name": "#%%\n"
    }
   },
   "outputs": [],
   "source": [
    "import carla\n",
    "import time\n",
    "import sys\n",
    "import random\n",
    "import pygame\n",
    "import numpy as np"
   ]
  },
  {
   "cell_type": "code",
   "execution_count": 50,
   "outputs": [],
   "source": [
    "client = carla.Client('localhost', 2000)\n",
    "world = client.load_world('Town02')\n",
    "world_map = world.get_map()"
   ],
   "metadata": {
    "collapsed": false,
    "pycharm": {
     "name": "#%%\n"
    }
   }
  },
  {
   "cell_type": "code",
   "execution_count": 51,
   "outputs": [],
   "source": [
    "\n",
    "transform = carla.Transform(carla.Location(0, 100, 10), carla.Rotation(pitch=-90))\n",
    "transform = carla.Transform(carla.Location(90, 180, 170), carla.Rotation(pitch=-90))\n",
    "\n",
    "spectator = world.get_spectator()\n",
    "spectator.set_transform(transform)"
   ],
   "metadata": {
    "collapsed": false,
    "pycharm": {
     "name": "#%%\n"
    }
   }
  },
  {
   "cell_type": "code",
   "execution_count": 3,
   "outputs": [],
   "source": [
    "# Render object to keep and pass the PyGame surface\n",
    "class RenderObject(object):\n",
    "    def __init__(self, width, height):\n",
    "        init_image = np.random.randint(0, 255, (height, width, 3), dtype='uint8')\n",
    "        self.surface = pygame.surfarray.make_surface(init_image.swapaxes(0, 1))\n",
    "\n",
    "\n",
    "# Camera sensor callback, reshapes raw data from camera into 2D RGB and applies to PyGame surface\n",
    "def pygame_callback(data, obj):\n",
    "    img = np.reshape(np.copy(data.raw_data), (data.height, data.width, 4))\n",
    "    img = img[:, :, :3]\n",
    "    img = img[:, :, ::-1]\n",
    "    obj.surface = pygame.surfarray.make_surface(img.swapaxes(0, 1))"
   ],
   "metadata": {
    "collapsed": false,
    "pycharm": {
     "name": "#%%\n"
    }
   }
  },
  {
   "cell_type": "code",
   "execution_count": 4,
   "outputs": [],
   "source": [
    "spawn_points = world_map.get_spawn_points()\n",
    "bp_lib = world.get_blueprint_library()\n",
    "vehicle_bp = bp_lib.find('vehicle.lincoln.mkz_2020')\n",
    "\n",
    "vehicle = world.spawn_actor(vehicle_bp, random.choice(spawn_points))"
   ],
   "metadata": {
    "collapsed": false,
    "pycharm": {
     "name": "#%%\n"
    }
   }
  },
  {
   "cell_type": "code",
   "execution_count": 3,
   "outputs": [],
   "source": [
    "start_location = carla.Location(x=-7.530004, y=234.110001, z=0.500000)\n",
    "end_location = carla.Location(x=166.914505, y=191.770035, z=0.500000)\n",
    "back_location = carla.Location(x=173.870056, y=105.550011, z=0.500000)\n",
    "back_transform = carla.Transform(back_location, carla.Rotation(pitch=0.000000, yaw=-180, roll=0.000000))\n",
    "start_transform = carla.Transform(start_location, carla.Rotation(yaw=90))\n",
    "end_transform = carla.Transform(start_location, carla.Rotation(yaw=0))\n",
    "\n",
    "spectator = world.get_spectator()\n",
    "spectator.set_transform(start_transform)"
   ],
   "metadata": {
    "collapsed": false,
    "pycharm": {
     "name": "#%%\n"
    }
   }
  },
  {
   "cell_type": "code",
   "execution_count": 6,
   "outputs": [],
   "source": [
    "camera_init_trans = carla.Transform(carla.Location(x=-5, z=3), carla.Rotation(pitch=-20))\n",
    "camera_bp = world.get_blueprint_library().find('sensor.camera.rgb')\n",
    "camera_bp.set_attribute('image_size_x', '600')\n",
    "camera_bp.set_attribute('image_size_y', '360')\n",
    "\n",
    "image_w = camera_bp.get_attribute(\"image_size_x\").as_int()\n",
    "image_h = camera_bp.get_attribute(\"image_size_y\").as_int()\n",
    "\n",
    "renderObject = RenderObject(image_w, image_h)\n",
    "\n",
    "camera = world.spawn_actor(camera_bp, camera_init_trans, attach_to=vehicle)\n",
    "camera.listen(lambda image: pygame_callback(image, renderObject))"
   ],
   "metadata": {
    "collapsed": false,
    "pycharm": {
     "name": "#%%\n"
    }
   }
  },
  {
   "cell_type": "code",
   "execution_count": 7,
   "outputs": [
    {
     "data": {
      "text/plain": "(7, 0)"
     },
     "execution_count": 7,
     "metadata": {},
     "output_type": "execute_result"
    }
   ],
   "source": [
    "pygame.init()"
   ],
   "metadata": {
    "collapsed": false,
    "pycharm": {
     "name": "#%%\n"
    }
   }
  },
  {
   "cell_type": "code",
   "execution_count": 8,
   "outputs": [],
   "source": [
    "gameDisplay = pygame.display.set_mode((\n",
    "    camera_bp.get_attribute(\"image_size_x\").as_int(),\n",
    "    camera_bp.get_attribute(\"image_size_y\").as_int()\n",
    "), pygame.HWSURFACE | pygame.DOUBLEBUF)"
   ],
   "metadata": {
    "collapsed": false,
    "pycharm": {
     "name": "#%%\n"
    }
   }
  },
  {
   "cell_type": "code",
   "execution_count": 9,
   "outputs": [
    {
     "data": {
      "text/plain": "<rect(0, 0, 600, 360)>"
     },
     "execution_count": 9,
     "metadata": {},
     "output_type": "execute_result"
    }
   ],
   "source": [
    "gameDisplay.fill((255, 255, 0))"
   ],
   "metadata": {
    "collapsed": false,
    "pycharm": {
     "name": "#%%\n"
    }
   }
  },
  {
   "cell_type": "code",
   "execution_count": 9,
   "outputs": [],
   "source": [],
   "metadata": {
    "collapsed": false,
    "pycharm": {
     "name": "#%%\n"
    }
   }
  },
  {
   "cell_type": "code",
   "execution_count": 10,
   "outputs": [
    {
     "data": {
      "text/plain": "<rect(0, 0, 600, 360)>"
     },
     "execution_count": 10,
     "metadata": {},
     "output_type": "execute_result"
    }
   ],
   "source": [
    "gameDisplay.blit(renderObject.surface, (0, 0))"
   ],
   "metadata": {
    "collapsed": false,
    "pycharm": {
     "name": "#%%\n"
    }
   }
  },
  {
   "cell_type": "code",
   "execution_count": 11,
   "outputs": [],
   "source": [
    "pygame.display.flip()"
   ],
   "metadata": {
    "collapsed": false,
    "pycharm": {
     "name": "#%%\n"
    }
   }
  },
  {
   "cell_type": "code",
   "execution_count": 14,
   "outputs": [],
   "source": [
    "settings = world.get_settings()\n",
    "settings.synchronous_mode = True\n",
    "settings.fixed_delta_seconds = 0.05\n",
    "world.apply_settings(settings)\n",
    "client.get_trafficmanager().set_synchronous_mode(True)\n"
   ],
   "metadata": {
    "collapsed": false,
    "pycharm": {
     "name": "#%%\n"
    }
   }
  },
  {
   "cell_type": "code",
   "execution_count": 15,
   "outputs": [],
   "source": [
    "vehicle.set_autopilot(True)"
   ],
   "metadata": {
    "collapsed": false,
    "pycharm": {
     "name": "#%%\n"
    }
   }
  },
  {
   "cell_type": "code",
   "execution_count": null,
   "outputs": [],
   "source": [
    "while True:\n",
    "    world.tick()\n",
    "    gameDisplay.blit(renderObject.surface, (0, 0))\n",
    "    pygame.display.flip()"
   ],
   "metadata": {
    "collapsed": false,
    "pycharm": {
     "name": "#%%\n",
     "is_executing": true
    }
   }
  },
  {
   "cell_type": "code",
   "execution_count": 40,
   "outputs": [],
   "source": [
    "start_location = carla.Location(x=-15.148191, y=69.714005, z=0.600000)\n",
    "end_location = carla.Location(x=74.798752, y=28.343533, z=0.600000)\n",
    "\n",
    "transform = carla.Transform(start_location, carla.Rotation())"
   ],
   "metadata": {
    "collapsed": false,
    "pycharm": {
     "name": "#%%\n"
    }
   }
  },
  {
   "cell_type": "code",
   "execution_count": 41,
   "outputs": [],
   "source": [
    "waypoint = world_map.get_waypoint(start_location)"
   ],
   "metadata": {
    "collapsed": false,
    "pycharm": {
     "name": "#%%\n"
    }
   }
  },
  {
   "cell_type": "code",
   "execution_count": 42,
   "outputs": [
    {
     "name": "stdout",
     "output_type": "stream",
     "text": [
      "Transform(Location(x=74.798615, y=28.391865, z=0.000000), Rotation(pitch=0.000000, yaw=0.159198, roll=0.000000))\n"
     ]
    }
   ],
   "source": [
    "print(waypoint.transform)"
   ],
   "metadata": {
    "collapsed": false,
    "pycharm": {
     "name": "#%%\n"
    }
   }
  },
  {
   "cell_type": "code",
   "execution_count": 3,
   "outputs": [],
   "source": [
    "spawn_points = world_map.get_spawn_points()"
   ],
   "metadata": {
    "collapsed": false,
    "pycharm": {
     "name": "#%%\n"
    }
   }
  },
  {
   "cell_type": "code",
   "execution_count": 44,
   "outputs": [],
   "source": [
    "bp_lib = world.get_blueprint_library()\n",
    "vehicle_bp = bp_lib.find('vehicle.lincoln.mkz_2020')\n",
    "\n",
    "vehicle = world.spawn_actor(vehicle_bp, transform)\n",
    "# spawn_point ="
   ],
   "metadata": {
    "collapsed": false,
    "pycharm": {
     "name": "#%%\n"
    }
   }
  },
  {
   "cell_type": "code",
   "execution_count": 63,
   "outputs": [],
   "source": [
    "vehicle.set_autopilot(True)"
   ],
   "metadata": {
    "collapsed": false,
    "pycharm": {
     "name": "#%%\n"
    }
   }
  },
  {
   "cell_type": "code",
   "execution_count": 5,
   "outputs": [
    {
     "name": "stdout",
     "output_type": "stream",
     "text": [
      "101\n",
      "Location(x=-3.680000, y=121.209999, z=0.500000)\n",
      "Rotation(pitch=0.000000, yaw=-89.999817, roll=0.000000)\n",
      "Location(x=-7.530000, y=121.209999, z=0.500000)\n",
      "Rotation(pitch=0.000000, yaw=89.999954, roll=0.000000)\n"
     ]
    }
   ],
   "source": [
    "spawn_points = world_map.get_spawn_points()\n",
    "spawn_point = random.choice(spawn_points) if spawn_points else carla.Transform()\n",
    "#player = world.try_spawn_actor(vehicle_bp, spawn_point)\n",
    "print(len(spawn_points))\n",
    "for s in spawn_points:\n",
    "    if -10 < s.location.x < -1 and 120 < s.location.y < 140:\n",
    "        print(s.location)\n",
    "        print(s.rotation)"
   ],
   "metadata": {
    "collapsed": false,
    "pycharm": {
     "name": "#%%\n"
    }
   }
  },
  {
   "cell_type": "code",
   "execution_count": 8,
   "outputs": [],
   "source": [
    "spectator = world.get_spectator()\n",
    "# transform = player.get_transform()\n",
    "spectator.set_transform(carla.Transform(carla.Location(x=-7.530000, y=121.209999, z=0.500000), carla.Rotation(pitch=0.000000, yaw=89.999954, roll=0.000000)))"
   ],
   "metadata": {
    "collapsed": false,
    "pycharm": {
     "name": "#%%\n"
    }
   }
  },
  {
   "cell_type": "code",
   "execution_count": 46,
   "outputs": [
    {
     "name": "stdout",
     "output_type": "stream",
     "text": [
      "(x,y,z) = (178.5023651123047,308.7868347167969,1.0360572338104248)\n",
      "(x,y,z) = (-88.92935180664062,0.0,0.0)\n"
     ]
    }
   ],
   "source": [
    "t = world.get_spectator().get_transform()\n",
    "# coordinate_str = \"(x,y) = ({},{})\".format(t.location.x, t.location.y)\n",
    "coordinate_str = \"(x,y,z) = ({},{},{})\".format(t.location.x, t.location.y, t.location.z)\n",
    "rotation_str = \"(x,y,z) = ({},{},{})\".format(t.rotation.pitch, t.rotation.yaw, t.rotation.roll)\n",
    "print(coordinate_str)\n",
    "print(rotation_str)\n",
    "time.sleep(1)"
   ],
   "metadata": {
    "collapsed": false,
    "pycharm": {
     "name": "#%%\n"
    }
   }
  },
  {
   "cell_type": "code",
   "execution_count": null,
   "outputs": [],
   "source": [],
   "metadata": {
    "collapsed": false,
    "pycharm": {
     "name": "#%%\n"
    }
   }
  }
 ],
 "metadata": {
  "kernelspec": {
   "display_name": "Python 3",
   "language": "python",
   "name": "python3"
  },
  "language_info": {
   "codemirror_mode": {
    "name": "ipython",
    "version": 2
   },
   "file_extension": ".py",
   "mimetype": "text/x-python",
   "name": "python",
   "nbconvert_exporter": "python",
   "pygments_lexer": "ipython2",
   "version": "2.7.6"
  }
 },
 "nbformat": 4,
 "nbformat_minor": 0
}