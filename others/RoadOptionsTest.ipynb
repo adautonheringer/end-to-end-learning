{
 "cells": [
  {
   "cell_type": "code",
   "execution_count": 39,
   "outputs": [],
   "source": [
    "import carla\n",
    "import math\n",
    "import random\n",
    "import time\n",
    "import numpy as np\n",
    "import cv2"
   ],
   "metadata": {
    "collapsed": false,
    "pycharm": {
     "name": "#%%\n"
    }
   }
  },
  {
   "cell_type": "code",
   "execution_count": 40,
   "outputs": [],
   "source": [
    "client = carla.Client('192.168.5.145', 2000)\n",
    "# client.get_available_maps()"
   ],
   "metadata": {
    "collapsed": false,
    "pycharm": {
     "name": "#%%\n"
    }
   }
  },
  {
   "cell_type": "code",
   "execution_count": 41,
   "outputs": [],
   "source": [
    "world = client.load_world('Town01')"
   ],
   "metadata": {
    "collapsed": false,
    "pycharm": {
     "name": "#%%\n"
    }
   }
  },
  {
   "cell_type": "code",
   "execution_count": 42,
   "outputs": [],
   "source": [
    "bp_lib = world.get_blueprint_library()\n",
    "world_map = world.get_map()\n",
    "spawn_points = world_map.get_spawn_points()"
   ],
   "metadata": {
    "collapsed": false,
    "pycharm": {
     "name": "#%%\n"
    }
   }
  },
  {
   "cell_type": "code",
   "execution_count": 43,
   "outputs": [],
   "source": [
    "vehicle_bp = bp_lib.find('vehicle.lincoln.mkz_2020')\n",
    "vehicle = world.try_spawn_actor(vehicle_bp, random.choice(spawn_points))"
   ],
   "metadata": {
    "collapsed": false,
    "pycharm": {
     "name": "#%%\n"
    }
   }
  },
  {
   "cell_type": "code",
   "execution_count": 44,
   "outputs": [],
   "source": [
    "spectator = world.get_spectator()\n",
    "transform = carla.Transform(vehicle.get_transform().transform(carla.Location(x=-4, z=2.5)),\n",
    "                            vehicle.get_transform().rotation)\n",
    "spectator.set_transform(transform)"
   ],
   "metadata": {
    "collapsed": false,
    "pycharm": {
     "name": "#%%\n"
    }
   }
  },
  {
   "cell_type": "code",
   "execution_count": 45,
   "outputs": [],
   "source": [
    "world.set_weather(carla.WeatherParameters.ClearSunset)"
   ],
   "metadata": {
    "collapsed": false,
    "pycharm": {
     "name": "#%%\n"
    }
   }
  },
  {
   "cell_type": "code",
   "execution_count": 46,
   "outputs": [
    {
     "data": {
      "text/plain": "521"
     },
     "execution_count": 46,
     "metadata": {},
     "output_type": "execute_result"
    }
   ],
   "source": [
    "settings = world.get_settings()\n",
    "settings.synchronous_mode = True\n",
    "settings.fixed_delta_seconds = 0.05\n",
    "\n",
    "world.apply_settings(settings)"
   ],
   "metadata": {
    "collapsed": false,
    "pycharm": {
     "name": "#%%\n"
    }
   }
  },
  {
   "cell_type": "code",
   "execution_count": 47,
   "outputs": [],
   "source": [
    "traffic_manager = client.get_trafficmanager()\n",
    "traffic_manager.set_synchronous_mode(True)"
   ],
   "metadata": {
    "collapsed": false,
    "pycharm": {
     "name": "#%%\n"
    }
   }
  },
  {
   "cell_type": "code",
   "execution_count": 19,
   "outputs": [],
   "source": [],
   "metadata": {
    "collapsed": false,
    "pycharm": {
     "name": "#%%\n"
    }
   }
  },
  {
   "cell_type": "code",
   "execution_count": 48,
   "outputs": [],
   "source": [
    "spawn_points = world.get_map().get_spawn_points()"
   ],
   "metadata": {
    "collapsed": false,
    "pycharm": {
     "name": "#%%\n"
    }
   }
  },
  {
   "cell_type": "code",
   "execution_count": 34,
   "outputs": [
    {
     "ename": "KeyboardInterrupt",
     "evalue": "",
     "output_type": "error",
     "traceback": [
      "\u001B[0;31m---------------------------------------------------------------------------\u001B[0m",
      "\u001B[0;31mKeyboardInterrupt\u001B[0m                         Traceback (most recent call last)",
      "Input \u001B[0;32mIn [34]\u001B[0m, in \u001B[0;36m<cell line: 6>\u001B[0;34m()\u001B[0m\n\u001B[1;32m      4\u001B[0m \u001B[38;5;66;03m# In synchronous mode, we need to run the simulation to fly the spectator\u001B[39;00m\n\u001B[1;32m      5\u001B[0m \u001B[38;5;28;01mwhile\u001B[39;00m \u001B[38;5;28;01mTrue\u001B[39;00m:\n\u001B[0;32m----> 6\u001B[0m     \u001B[43mworld\u001B[49m\u001B[38;5;241;43m.\u001B[39;49m\u001B[43mtick\u001B[49m\u001B[43m(\u001B[49m\u001B[43m)\u001B[49m\n",
      "\u001B[0;31mKeyboardInterrupt\u001B[0m: "
     ]
    }
   ],
   "source": [
    "for i, spawn_point in enumerate(spawn_points):\n",
    "    world.debug.draw_string(spawn_point.location, str(i), life_time=10)\n",
    "\n",
    "# In synchronous mode, we need to run the simulation to fly the spectator\n",
    "while True:\n",
    "    world.tick()"
   ],
   "metadata": {
    "collapsed": false,
    "pycharm": {
     "name": "#%%\n"
    }
   }
  },
  {
   "cell_type": "code",
   "execution_count": 49,
   "outputs": [
    {
     "ename": "KeyboardInterrupt",
     "evalue": "",
     "output_type": "error",
     "traceback": [
      "\u001B[0;31m---------------------------------------------------------------------------\u001B[0m",
      "\u001B[0;31mKeyboardInterrupt\u001B[0m                         Traceback (most recent call last)",
      "Input \u001B[0;32mIn [49]\u001B[0m, in \u001B[0;36m<cell line: 30>\u001B[0;34m()\u001B[0m\n\u001B[1;32m     27\u001B[0m     world\u001B[38;5;241m.\u001B[39mdebug\u001B[38;5;241m.\u001B[39mdraw_string(spawn_points[ind]\u001B[38;5;241m.\u001B[39mlocation, \u001B[38;5;28mstr\u001B[39m(ind), life_time\u001B[38;5;241m=\u001B[39m\u001B[38;5;241m60\u001B[39m, color\u001B[38;5;241m=\u001B[39mcarla\u001B[38;5;241m.\u001B[39mColor(\u001B[38;5;241m0\u001B[39m, \u001B[38;5;241m0\u001B[39m, \u001B[38;5;241m255\u001B[39m))\n\u001B[1;32m     29\u001B[0m \u001B[38;5;28;01mwhile\u001B[39;00m \u001B[38;5;28;01mTrue\u001B[39;00m:\n\u001B[0;32m---> 30\u001B[0m     \u001B[43mworld\u001B[49m\u001B[38;5;241;43m.\u001B[39;49m\u001B[43mtick\u001B[49m\u001B[43m(\u001B[49m\u001B[43m)\u001B[49m\n",
      "\u001B[0;31mKeyboardInterrupt\u001B[0m: "
     ]
    }
   ],
   "source": [
    "# Route 1\n",
    "spawn_point_1 = spawn_points[32]\n",
    "# Create route 1 from the chosen spawn points\n",
    "route_1_indices = [129, 28, 124, 33, 97, 119, 58, 154, 147]\n",
    "route_1 = []\n",
    "for ind in route_1_indices:\n",
    "    route_1.append(spawn_points[ind].location)\n",
    "\n",
    "# Route 2\n",
    "spawn_point_2 = spawn_points[149]\n",
    "# Create route 2 from the chosen spawn points\n",
    "route_2_indices = [21, 76, 38, 34, 90, 3]\n",
    "route_2 = []\n",
    "for ind in route_2_indices:\n",
    "    route_2.append(spawn_points[ind].location)\n",
    "\n",
    "# Now let's print them in the map so we can see our routes\n",
    "world.debug.draw_string(spawn_point_1.location, 'Spawn point 1', life_time=30, color=carla.Color(255, 0, 0))\n",
    "world.debug.draw_string(spawn_point_2.location, 'Spawn point 2', life_time=30, color=carla.Color(0, 0, 255))\n",
    "\n",
    "for ind in route_1_indices:\n",
    "    spawn_points[ind].location\n",
    "    world.debug.draw_string(spawn_points[ind].location, str(ind), life_time=60, color=carla.Color(255, 0, 0))\n",
    "\n",
    "for ind in route_2_indices:\n",
    "    spawn_points[ind].location\n",
    "    world.debug.draw_string(spawn_points[ind].location, str(ind), life_time=60, color=carla.Color(0, 0, 255))\n",
    "\n",
    "while True:\n",
    "    world.tick()"
   ],
   "metadata": {
    "collapsed": false,
    "pycharm": {
     "name": "#%%\n"
    }
   }
  },
  {
   "cell_type": "code",
   "execution_count": 37,
   "outputs": [
    {
     "ename": "KeyboardInterrupt",
     "evalue": "",
     "output_type": "error",
     "traceback": [
      "\u001B[0;31m---------------------------------------------------------------------------\u001B[0m",
      "\u001B[0;31mKeyboardInterrupt\u001B[0m                         Traceback (most recent call last)",
      "Input \u001B[0;32mIn [37]\u001B[0m, in \u001B[0;36m<cell line: 11>\u001B[0;34m()\u001B[0m\n\u001B[1;32m      8\u001B[0m alt \u001B[38;5;241m=\u001B[39m \u001B[38;5;28;01mFalse\u001B[39;00m\n\u001B[1;32m     10\u001B[0m \u001B[38;5;28;01mwhile\u001B[39;00m \u001B[38;5;28;01mTrue\u001B[39;00m:\n\u001B[0;32m---> 11\u001B[0m     \u001B[43mworld\u001B[49m\u001B[38;5;241;43m.\u001B[39;49m\u001B[43mtick\u001B[49m\u001B[43m(\u001B[49m\u001B[43m)\u001B[49m\n\u001B[1;32m     13\u001B[0m     n_vehicles \u001B[38;5;241m=\u001B[39m \u001B[38;5;28mlen\u001B[39m(world\u001B[38;5;241m.\u001B[39mget_actors()\u001B[38;5;241m.\u001B[39mfilter(\u001B[38;5;124m'\u001B[39m\u001B[38;5;124m*vehicle*\u001B[39m\u001B[38;5;124m'\u001B[39m))\n\u001B[1;32m     14\u001B[0m     \u001B[38;5;66;03m# vehicle_bp = random.choice(blueprints)\u001B[39;00m\n\u001B[1;32m     15\u001B[0m \n\u001B[1;32m     16\u001B[0m     \u001B[38;5;66;03m# Spawn vehicle only after delay\u001B[39;00m\n",
      "\u001B[0;31mKeyboardInterrupt\u001B[0m: "
     ]
    }
   ],
   "source": [
    "# Set delay to create gap between spawn times\n",
    "spawn_delay = 20\n",
    "counter = spawn_delay\n",
    "\n",
    "# Set max vehicles (set smaller for low hardward spec)\n",
    "max_vehicles = 200\n",
    "# Alternate between spawn points\n",
    "alt = False\n",
    "\n",
    "while True:\n",
    "    world.tick()\n",
    "\n",
    "    n_vehicles = len(world.get_actors().filter('*vehicle*'))\n",
    "    # vehicle_bp = random.choice(blueprints)\n",
    "\n",
    "    # Spawn vehicle only after delay\n",
    "    if counter == spawn_delay and n_vehicles < max_vehicles:\n",
    "        # Alternate spawn points\n",
    "        if alt:\n",
    "            vehicle = world.try_spawn_actor(vehicle_bp, spawn_point_1)\n",
    "        else:\n",
    "            vehicle = world.try_spawn_actor(vehicle_bp, spawn_point_2)\n",
    "\n",
    "        if vehicle:  # IF vehicle is succesfully spawned\n",
    "            vehicle.set_autopilot(True)  # Give TM control over vehicle\n",
    "\n",
    "            # Set parameters of TM vehicle control, we don't want lane changes\n",
    "            traffic_manager.update_vehicle_lights(vehicle, True)\n",
    "            traffic_manager.random_left_lanechange_percentage(vehicle, 0)\n",
    "            traffic_manager.random_right_lanechange_percentage(vehicle, 0)\n",
    "            traffic_manager.auto_lane_change(vehicle, False)\n",
    "\n",
    "            # Alternate between routes\n",
    "            if alt:\n",
    "                traffic_manager.set_path(vehicle, route_1)\n",
    "                alt = False\n",
    "            else:\n",
    "                traffic_manager.set_path(vehicle, route_2)\n",
    "                alt = True\n",
    "\n",
    "            vehicle = None\n",
    "\n",
    "        counter -= 1\n",
    "    elif counter > 0:\n",
    "        counter -= 1\n",
    "    elif counter == 0:\n",
    "        counter = spawn_delay\n"
   ],
   "metadata": {
    "collapsed": false,
    "pycharm": {
     "name": "#%%\n"
    }
   }
  },
  {
   "cell_type": "code",
   "execution_count": null,
   "outputs": [],
   "source": [
    "vehicle.set_autopilot(True)\n",
    "\n",
    "# Set parameters of TM vehicle control, we don't want lane changes\n",
    "traffic_manager.update_vehicle_lights(vehicle, True)\n",
    "traffic_manager.random_left_lanechange_percentage(vehicle, 0)\n",
    "traffic_manager.random_right_lanechange_percentage(vehicle, 0)\n",
    "traffic_manager.auto_lane_change(vehicle, False)\n",
    "\n",
    "traffic_manager.set_path(vehicle, route_1)"
   ],
   "metadata": {
    "collapsed": false,
    "pycharm": {
     "name": "#%%\n"
    }
   }
  },
  {
   "cell_type": "code",
   "execution_count": null,
   "outputs": [],
   "source": [
    "while True:\n",
    "    world.tick()"
   ],
   "metadata": {
    "collapsed": false,
    "pycharm": {
     "name": "#%%\n"
    }
   }
  },
  {
   "cell_type": "code",
   "execution_count": null,
   "outputs": [],
   "source": [],
   "metadata": {
    "collapsed": false,
    "pycharm": {
     "name": "#%%\n"
    }
   }
  }
 ],
 "metadata": {
  "kernelspec": {
   "display_name": "Python 3",
   "language": "python",
   "name": "python3"
  },
  "language_info": {
   "codemirror_mode": {
    "name": "ipython",
    "version": 2
   },
   "file_extension": ".py",
   "mimetype": "text/x-python",
   "name": "python",
   "nbconvert_exporter": "python",
   "pygments_lexer": "ipython2",
   "version": "2.7.6"
  }
 },
 "nbformat": 4,
 "nbformat_minor": 0
}