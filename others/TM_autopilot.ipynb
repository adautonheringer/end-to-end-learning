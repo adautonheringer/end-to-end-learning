{
 "cells": [
  {
   "cell_type": "code",
   "execution_count": 2,
   "metadata": {
    "collapsed": true,
    "pycharm": {
     "name": "#%%\n"
    }
   },
   "outputs": [],
   "source": [
    "import carla\n",
    "import random\n",
    "import time"
   ]
  },
  {
   "cell_type": "code",
   "execution_count": 3,
   "outputs": [],
   "source": [
    "client = carla.Client('192.168.5.145', 2000)\n",
    "world = client.load_world('Town02')"
   ],
   "metadata": {
    "collapsed": false,
    "pycharm": {
     "name": "#%%\n"
    }
   }
  },
  {
   "cell_type": "code",
   "execution_count": 5,
   "outputs": [],
   "source": [
    "traffic_manager = client.get_trafficmanager()"
   ],
   "metadata": {
    "collapsed": false,
    "pycharm": {
     "name": "#%%\n"
    }
   }
  },
  {
   "cell_type": "code",
   "execution_count": 6,
   "outputs": [
    {
     "ename": "ArgumentError",
     "evalue": "Python argument types in\n    TrafficManager.get_next_action(TrafficManager)\ndid not match C++ signature:\n    get_next_action(carla::traffic_manager::TrafficManager {lvalue}, boost::shared_ptr<carla::client::Actor>)",
     "output_type": "error",
     "traceback": [
      "\u001B[0;31m---------------------------------------------------------------------------\u001B[0m",
      "\u001B[0;31mArgumentError\u001B[0m                             Traceback (most recent call last)",
      "Input \u001B[0;32mIn [6]\u001B[0m, in \u001B[0;36m<cell line: 1>\u001B[0;34m()\u001B[0m\n\u001B[0;32m----> 1\u001B[0m \u001B[43mtraffic_manager\u001B[49m\u001B[38;5;241;43m.\u001B[39;49m\u001B[43mget_next_action\u001B[49m\u001B[43m(\u001B[49m\u001B[43m)\u001B[49m\n",
      "\u001B[0;31mArgumentError\u001B[0m: Python argument types in\n    TrafficManager.get_next_action(TrafficManager)\ndid not match C++ signature:\n    get_next_action(carla::traffic_manager::TrafficManager {lvalue}, boost::shared_ptr<carla::client::Actor>)"
     ]
    }
   ],
   "source": [],
   "metadata": {
    "collapsed": false,
    "pycharm": {
     "name": "#%%\n"
    }
   }
  },
  {
   "cell_type": "code",
   "execution_count": 7,
   "outputs": [],
   "source": [
    "bp_lib = world.get_blueprint_library()\n",
    "world_map = world.get_map()\n",
    "spawn_points = world_map.get_spawn_points()"
   ],
   "metadata": {
    "collapsed": false,
    "pycharm": {
     "name": "#%%\n"
    }
   }
  },
  {
   "cell_type": "code",
   "execution_count": 8,
   "outputs": [],
   "source": [
    "vehicle_bp = bp_lib.find('vehicle.lincoln.mkz_2020')\n",
    "vehicle = world.try_spawn_actor(vehicle_bp, random.choice(spawn_points))"
   ],
   "metadata": {
    "collapsed": false,
    "pycharm": {
     "name": "#%%\n"
    }
   }
  },
  {
   "cell_type": "code",
   "execution_count": 50,
   "outputs": [],
   "source": [
    "spectator = world.get_spectator()\n",
    "transform = carla.Transform(vehicle.get_transform().transform(carla.Location(x=4, z=2.5)),\n",
    "                            vehicle.get_transform().rotation)\n",
    "spectator.set_transform(transform)"
   ],
   "metadata": {
    "collapsed": false,
    "pycharm": {
     "name": "#%%\n"
    }
   }
  },
  {
   "cell_type": "code",
   "execution_count": 49,
   "outputs": [],
   "source": [
    "vehicle.set_autopilot(True)"
   ],
   "metadata": {
    "collapsed": false,
    "pycharm": {
     "name": "#%%\n"
    }
   }
  },
  {
   "cell_type": "code",
   "execution_count": 51,
   "outputs": [
    {
     "data": {
      "text/plain": "['Straight', <carla.libcarla.Waypoint at 0x7f73d069d040>]"
     },
     "execution_count": 51,
     "metadata": {},
     "output_type": "execute_result"
    }
   ],
   "source": [
    "traffic_manager.get_next_action(vehicle)"
   ],
   "metadata": {
    "collapsed": false,
    "pycharm": {
     "name": "#%%\n"
    }
   }
  },
  {
   "cell_type": "code",
   "execution_count": 9,
   "outputs": [],
   "source": [
    "current_location = vehicle.get_location()\n",
    "current_transform = vehicle.get_transform()\n",
    "current_rotation = current_transform.rotation"
   ],
   "metadata": {
    "collapsed": false,
    "pycharm": {
     "name": "#%%\n"
    }
   }
  },
  {
   "cell_type": "code",
   "execution_count": 10,
   "outputs": [
    {
     "data": {
      "text/plain": "-0.0003356933011673391"
     },
     "execution_count": 10,
     "metadata": {},
     "output_type": "execute_result"
    }
   ],
   "source": [
    "current_rotation.yaw"
   ],
   "metadata": {
    "collapsed": false,
    "pycharm": {
     "name": "#%%\n"
    }
   }
  },
  {
   "cell_type": "code",
   "execution_count": 14,
   "outputs": [],
   "source": [
    "current_location = vehicle.get_location()\n",
    "current_transform = vehicle.get_transform()\n",
    "current_rotation = current_transform.rotation\n",
    "\n",
    "vehicle.set_transform(carla.Transform(carla.Location(x=current_location.x, y=current_location.y, z=current_location.z),\n",
    "                                      carla.Rotation(pitch=current_rotation.pitch, yaw=current_rotation.yaw + -30,\n",
    "                                                     roll=current_rotation.roll)))"
   ],
   "metadata": {
    "collapsed": false,
    "pycharm": {
     "name": "#%%\n"
    }
   }
  },
  {
   "cell_type": "code",
   "execution_count": 30,
   "outputs": [],
   "source": [
    "vehicle.set_autopilot(True)"
   ],
   "metadata": {
    "collapsed": false,
    "pycharm": {
     "name": "#%%\n"
    }
   }
  },
  {
   "cell_type": "code",
   "execution_count": 13,
   "outputs": [
    {
     "name": "stdout",
     "output_type": "stream",
     "text": [
      "-0.003575557377189398\n",
      "-0.004164623096585274\n",
      "-0.0034684580750763416\n",
      "-0.002564612776041031\n",
      "0.0\n",
      "0.00017573311924934387\n",
      "0.0\n",
      "0.00043982735951431096\n",
      "0.00015574102872051299\n",
      "0.0\n",
      "0.0\n",
      "-0.0003078351728618145\n",
      "0.0\n",
      "0.0\n",
      "0.0\n",
      "0.0006155604496598244\n",
      "-0.0003575629962142557\n",
      "0.0002485241857357323\n",
      "-0.00043982735951431096\n",
      "0.000870533986017108\n",
      "0.0\n",
      "0.00017573311924934387\n",
      "0.0\n",
      "0.0\n",
      "0.0\n",
      "0.0\n",
      "0.03623587638139725\n",
      "0.325440376996994\n",
      "0.4575980603694916\n",
      "0.39317595958709717\n",
      "0.053535278886556625\n",
      "0.006080980878323317\n",
      "0.0016379806911572814\n",
      "-0.0002485241857357323\n",
      "0.0\n",
      "-0.0002485241857357323\n",
      "-0.00017573311924934387\n",
      "0.0\n",
      "0.0\n",
      "0.0\n",
      "0.0009199392516165972\n",
      "0.0\n",
      "0.0\n",
      "0.031217414885759354\n",
      "0.03765788674354553\n",
      "0.03705376386642456\n",
      "0.0274214968085289\n",
      "0.011739327572286129\n",
      "0.002527340315282345\n",
      "0.0\n",
      "0.0\n",
      "0.21292342245578766\n",
      "0.7182828187942505\n",
      "0.33639848232269287\n",
      "0.017234129831194878\n",
      "-0.004508336540311575\n",
      "-0.005034839268773794\n",
      "-0.0030843657441437244\n",
      "-0.002362287836149335\n",
      "0.00017573311924934387\n",
      "0.0002485241857357323\n",
      "0.00017573311924934387\n",
      "0.0\n",
      "0.0\n",
      "0.0\n",
      "0.0\n",
      "0.0\n",
      "0.0\n",
      "0.0\n",
      "0.0\n",
      "0.0\n",
      "0.0\n",
      "0.0\n",
      "0.0\n",
      "0.0\n"
     ]
    },
    {
     "ename": "KeyboardInterrupt",
     "evalue": "",
     "output_type": "error",
     "traceback": [
      "\u001B[0;31m---------------------------------------------------------------------------\u001B[0m",
      "\u001B[0;31mKeyboardInterrupt\u001B[0m                         Traceback (most recent call last)",
      "Input \u001B[0;32mIn [13]\u001B[0m, in \u001B[0;36m<cell line: 2>\u001B[0;34m()\u001B[0m\n\u001B[1;32m      1\u001B[0m \u001B[38;5;28;01mwhile\u001B[39;00m \u001B[38;5;28;01mTrue\u001B[39;00m:\n\u001B[0;32m----> 2\u001B[0m     \u001B[43mtime\u001B[49m\u001B[38;5;241;43m.\u001B[39;49m\u001B[43msleep\u001B[49m\u001B[43m(\u001B[49m\u001B[38;5;241;43m0.5\u001B[39;49m\u001B[43m)\u001B[49m\n\u001B[1;32m      3\u001B[0m     \u001B[38;5;28mprint\u001B[39m(vehicle\u001B[38;5;241m.\u001B[39mget_control()\u001B[38;5;241m.\u001B[39msteer)\n",
      "\u001B[0;31mKeyboardInterrupt\u001B[0m: "
     ]
    }
   ],
   "source": [
    "while True:\n",
    "    time.sleep(0.5)\n",
    "    print(vehicle.get_control().steer)"
   ],
   "metadata": {
    "collapsed": false,
    "pycharm": {
     "name": "#%%\n"
    }
   }
  },
  {
   "cell_type": "code",
   "execution_count": 1,
   "outputs": [],
   "source": [],
   "metadata": {
    "collapsed": false,
    "pycharm": {
     "name": "#%%\n"
    }
   }
  }
 ],
 "metadata": {
  "kernelspec": {
   "display_name": "Python 3",
   "language": "python",
   "name": "python3"
  },
  "language_info": {
   "codemirror_mode": {
    "name": "ipython",
    "version": 2
   },
   "file_extension": ".py",
   "mimetype": "text/x-python",
   "name": "python",
   "nbconvert_exporter": "python",
   "pygments_lexer": "ipython2",
   "version": "2.7.6"
  }
 },
 "nbformat": 4,
 "nbformat_minor": 0
}
