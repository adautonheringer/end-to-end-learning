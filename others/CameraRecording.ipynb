{
 "cells": [
  {
   "cell_type": "code",
   "execution_count": 3,
   "outputs": [],
   "source": [
    "import carla\n",
    "import math\n",
    "import random\n",
    "import time\n",
    "import numpy as np\n",
    "import cv2"
   ],
   "metadata": {
    "collapsed": false,
    "pycharm": {
     "name": "#%%\n"
    }
   }
  },
  {
   "cell_type": "code",
   "execution_count": 4,
   "outputs": [],
   "source": [
    "client = carla.Client('localhost', 2000)\n",
    "world = client.load_world('Town02')\n",
    "world.set_weather(carla.WeatherParameters.ClearSunset)\n",
    "\n",
    "sensors = {}"
   ],
   "metadata": {
    "collapsed": false,
    "pycharm": {
     "name": "#%%\n"
    }
   }
  },
  {
   "cell_type": "code",
   "execution_count": 5,
   "outputs": [],
   "source": [
    "spectator = world.get_spectator()\n",
    "transform = carla.Transform(carla.Location(90, 180, 170), carla.Rotation(pitch=-90))\n",
    "spectator.set_transform(transform)"
   ],
   "metadata": {
    "collapsed": false,
    "pycharm": {
     "name": "#%%\n"
    }
   }
  },
  {
   "cell_type": "code",
   "execution_count": 12,
   "outputs": [],
   "source": [
    "bp_lib = world.get_blueprint_library()\n",
    "camera_bp = bp_lib.find('sensor.camera.rgb')\n",
    "camera_bp.set_attribute('image_size_x', '600')\n",
    "camera_bp.set_attribute('image_size_y', '360')\n",
    "camera_bp.set_attribute('sensor_tick', '0.1')\n",
    "world_map = world.get_map()\n",
    "spawn_points = world_map.get_spawn_points()"
   ],
   "metadata": {
    "collapsed": false,
    "pycharm": {
     "name": "#%%\n"
    }
   }
  },
  {
   "cell_type": "code",
   "execution_count": 21,
   "outputs": [],
   "source": [
    "index = 85"
   ],
   "metadata": {
    "collapsed": false,
    "pycharm": {
     "name": "#%%\n"
    }
   }
  },
  {
   "cell_type": "code",
   "execution_count": 22,
   "outputs": [],
   "source": [
    "vehicle_bp = bp_lib.find('vehicle.lincoln.mkz_2020')\n",
    "vehicle = world.try_spawn_actor(vehicle_bp, spawn_points[index])"
   ],
   "metadata": {
    "collapsed": false,
    "pycharm": {
     "name": "#%%\n"
    }
   }
  },
  {
   "cell_type": "code",
   "execution_count": 23,
   "outputs": [],
   "source": [
    "spectator = world.get_spectator()\n",
    "transform = carla.Transform(vehicle.get_transform().transform(carla.Location(x=-4, z=2.5)),\n",
    "                            vehicle.get_transform().rotation)\n",
    "spectator.set_transform(transform)\n"
   ],
   "metadata": {
    "collapsed": false,
    "pycharm": {
     "name": "#%%\n"
    }
   }
  },
  {
   "cell_type": "code",
   "execution_count": 31,
   "outputs": [],
   "source": [
    "world.set_weather(carla.WeatherParameters.CloudyNoon)"
   ],
   "metadata": {
    "collapsed": false,
    "pycharm": {
     "name": "#%%\n"
    }
   }
  },
  {
   "cell_type": "code",
   "execution_count": 7,
   "outputs": [
    {
     "data": {
      "text/plain": "341"
     },
     "execution_count": 7,
     "metadata": {},
     "output_type": "execute_result"
    }
   ],
   "source": [
    "\n",
    "settings = world.get_settings()\n",
    "settings.synchronous_mode = True\n",
    "settings.fixed_delta_seconds = 0.1\n",
    "\n",
    "world.apply_settings(settings)"
   ],
   "metadata": {
    "collapsed": false,
    "pycharm": {
     "name": "#%%\n"
    }
   }
  },
  {
   "cell_type": "code",
   "execution_count": 7,
   "outputs": [],
   "source": [],
   "metadata": {
    "collapsed": false,
    "pycharm": {
     "name": "#%%\n"
    }
   }
  },
  {
   "cell_type": "code",
   "execution_count": 8,
   "outputs": [],
   "source": [
    "sensors['center'] = vehicle.get_world().spawn_actor(\n",
    "    camera_bp,\n",
    "    carla.Transform(carla.Location(x=1.6, z=1.7)),\n",
    "    attach_to=vehicle)\n",
    "\n",
    "sensors['left'] = vehicle.get_world().spawn_actor(\n",
    "    camera_bp,\n",
    "    carla.Transform(carla.Location(x=1.6, z=1.7, y=-1)),\n",
    "    attach_to=vehicle)\n",
    "\n",
    "sensors['far_left'] = vehicle.get_world().spawn_actor(\n",
    "    camera_bp,\n",
    "    carla.Transform(carla.Location(x=1.6, z=1.7, y=-2)),\n",
    "    attach_to=vehicle)\n",
    "\n",
    "sensors['far_far_left'] = vehicle.get_world().spawn_actor(\n",
    "    camera_bp,\n",
    "    carla.Transform(carla.Location(x=1.6, z=1.7, y=-3)),\n",
    "    attach_to=vehicle)\n",
    "\n",
    "sensors['right'] = vehicle.get_world().spawn_actor(\n",
    "    camera_bp,\n",
    "    carla.Transform(carla.Location(x=1.6, z=1.7, y=1)),\n",
    "    attach_to=vehicle)\n",
    "\n",
    "sensors['far_right'] = vehicle.get_world().spawn_actor(\n",
    "    camera_bp,\n",
    "    carla.Transform(carla.Location(x=1.6, z=1.7, y=2)),\n",
    "    attach_to=vehicle)\n",
    "\n",
    "sensors['far_far_right'] = vehicle.get_world().spawn_actor(\n",
    "    camera_bp,\n",
    "    carla.Transform(carla.Location(x=1.6, z=1.7, y=3)),\n",
    "    attach_to=vehicle)\n",
    "\n",
    "sensors['yaw_left'] = vehicle.get_world().spawn_actor(\n",
    "    camera_bp,\n",
    "    carla.Transform(carla.Location(x=1.6, z=1.7), carla.Rotation(yaw=-10)),\n",
    "    attach_to=vehicle)\n",
    "\n",
    "sensors['yaw_far_left'] = vehicle.get_world().spawn_actor(\n",
    "    camera_bp,\n",
    "    carla.Transform(carla.Location(x=1.6, z=1.7), carla.Rotation(yaw=-20)),\n",
    "    attach_to=vehicle)\n",
    "\n",
    "sensors['yaw_far_far_left'] = vehicle.get_world().spawn_actor(\n",
    "    camera_bp,\n",
    "    carla.Transform(carla.Location(x=1.6, z=1.7), carla.Rotation(yaw=-30)),\n",
    "    attach_to=vehicle)\n",
    "\n",
    "sensors['yaw_far_far_far_left'] = vehicle.get_world().spawn_actor(\n",
    "    camera_bp,\n",
    "    carla.Transform(carla.Location(x=1.6, z=1.7), carla.Rotation(yaw=-40)),\n",
    "    attach_to=vehicle)\n",
    "\n",
    "sensors['yaw_right'] = vehicle.get_world().spawn_actor(\n",
    "    camera_bp,\n",
    "    carla.Transform(carla.Location(x=1.6, z=1.7), carla.Rotation(yaw=10)),\n",
    "    attach_to=vehicle)\n",
    "\n",
    "sensors['yaw_far_right'] = vehicle.get_world().spawn_actor(\n",
    "    camera_bp,\n",
    "    carla.Transform(carla.Location(x=1.6, z=1.7), carla.Rotation(yaw=20)),\n",
    "    attach_to=vehicle)\n",
    "\n",
    "sensors['yaw_far_far_right'] = vehicle.get_world().spawn_actor(\n",
    "    camera_bp,\n",
    "    carla.Transform(carla.Location(x=1.6, z=1.7), carla.Rotation(yaw=30)),\n",
    "    attach_to=vehicle)\n",
    "\n",
    "sensors['yaw_far_far_far_right'] = vehicle.get_world().spawn_actor(\n",
    "    camera_bp,\n",
    "    carla.Transform(carla.Location(x=1.6, z=1.7), carla.Rotation(yaw=40)),\n",
    "    attach_to=vehicle)"
   ],
   "metadata": {
    "collapsed": false,
    "pycharm": {
     "name": "#%%\n"
    }
   }
  },
  {
   "cell_type": "code",
   "execution_count": 9,
   "outputs": [],
   "source": [
    "a = []"
   ],
   "metadata": {
    "collapsed": false,
    "pycharm": {
     "name": "#%%\n"
    }
   }
  },
  {
   "cell_type": "code",
   "execution_count": 10,
   "outputs": [],
   "source": [
    "for i in sensors:\n",
    "    a.append(str(i))\n"
   ],
   "metadata": {
    "collapsed": false,
    "pycharm": {
     "name": "#%%\n"
    }
   }
  },
  {
   "cell_type": "code",
   "execution_count": 11,
   "outputs": [],
   "source": [
    "sensors[a[0]].listen(lambda image: image.save_to_disk(f'_out_testing/{a[0]}_{image.frame}08d'))\n",
    "sensors[a[1]].listen(lambda image: image.save_to_disk(f'_out_testing/{a[1]}_{image.frame}08d'))\n",
    "sensors[a[2]].listen(lambda image: image.save_to_disk(f'_out_testing/{a[2]}_{image.frame}08d'))\n",
    "sensors[a[3]].listen(lambda image: image.save_to_disk(f'_out_testing/{a[3]}_{image.frame}08d'))\n",
    "sensors[a[4]].listen(lambda image: image.save_to_disk(f'_out_testing/{a[4]}_{image.frame}08d'))\n",
    "sensors[a[5]].listen(lambda image: image.save_to_disk(f'_out_testing/{a[5]}_{image.frame}08d'))\n",
    "sensors[a[6]].listen(lambda image: image.save_to_disk(f'_out_testing/{a[6]}_{image.frame}08d'))\n",
    "sensors[a[7]].listen(lambda image: image.save_to_disk(f'_out_testing/{a[7]}_{image.frame}08d'))\n",
    "sensors[a[8]].listen(lambda image: image.save_to_disk(f'_out_testing/{a[8]}_{image.frame}08d'))\n",
    "sensors[a[9]].listen(lambda image: image.save_to_disk(f'_out_testing/{a[9]}_{image.frame}08d'))\n",
    "sensors[a[10]].listen(lambda image: image.save_to_disk(f'_out_testing/{a[10]}_{image.frame}08d'))\n",
    "sensors[a[11]].listen(lambda image: image.save_to_disk(f'_out_testing/{a[11]}_{image.frame}08d'))\n",
    "sensors[a[12]].listen(lambda image: image.save_to_disk(f'_out_testing/{a[12]}_{image.frame}08d'))\n",
    "sensors[a[13]].listen(lambda image: image.save_to_disk(f'_out_testing/{a[13]}_{image.frame}08d'))\n",
    "sensors[a[14]].listen(lambda image: image.save_to_disk(f'_out_testing/{a[14]}_{image.frame}08d'))"
   ],
   "metadata": {
    "collapsed": false,
    "pycharm": {
     "name": "#%%\n"
    }
   }
  },
  {
   "cell_type": "code",
   "execution_count": 12,
   "outputs": [
    {
     "data": {
      "text/plain": "344"
     },
     "execution_count": 12,
     "metadata": {},
     "output_type": "execute_result"
    }
   ],
   "source": [
    "settings = world.get_settings()\n",
    "settings.synchronous_mode = True\n",
    "settings.fixed_delta_seconds = 0.1\n",
    "\n",
    "world.apply_settings(settings)"
   ],
   "metadata": {
    "collapsed": false,
    "pycharm": {
     "name": "#%%\n"
    }
   }
  },
  {
   "cell_type": "code",
   "execution_count": 168,
   "outputs": [],
   "source": [],
   "metadata": {
    "collapsed": false,
    "pycharm": {
     "name": "#%%\n"
    }
   }
  },
  {
   "cell_type": "code",
   "execution_count": 13,
   "outputs": [
    {
     "data": {
      "text/plain": "345"
     },
     "execution_count": 13,
     "metadata": {},
     "output_type": "execute_result"
    }
   ],
   "source": [
    "world.tick()"
   ],
   "metadata": {
    "collapsed": false,
    "pycharm": {
     "name": "#%%\n"
    }
   }
  },
  {
   "cell_type": "code",
   "execution_count": 19,
   "outputs": [],
   "source": [],
   "metadata": {
    "collapsed": false,
    "pycharm": {
     "name": "#%%\n"
    }
   }
  },
  {
   "cell_type": "code",
   "execution_count": 20,
   "outputs": [],
   "source": [
    "vehicle.set_autopilot(True)"
   ],
   "metadata": {
    "collapsed": false,
    "pycharm": {
     "name": "#%%\n"
    }
   }
  },
  {
   "cell_type": "code",
   "execution_count": 21,
   "outputs": [],
   "source": [
    "vehicle.set_autopilot(False)"
   ],
   "metadata": {
    "collapsed": false,
    "pycharm": {
     "name": "#%%\n"
    }
   }
  },
  {
   "cell_type": "code",
   "execution_count": null,
   "outputs": [],
   "source": [],
   "metadata": {
    "collapsed": false,
    "pycharm": {
     "name": "#%%\n"
    }
   }
  },
  {
   "cell_type": "code",
   "execution_count": null,
   "outputs": [],
   "source": [],
   "metadata": {
    "collapsed": false,
    "pycharm": {
     "name": "#%%\n"
    }
   }
  }
 ],
 "metadata": {
  "kernelspec": {
   "display_name": "Python 3",
   "language": "python",
   "name": "python3"
  },
  "language_info": {
   "codemirror_mode": {
    "name": "ipython",
    "version": 2
   },
   "file_extension": ".py",
   "mimetype": "text/x-python",
   "name": "python",
   "nbconvert_exporter": "python",
   "pygments_lexer": "ipython2",
   "version": "2.7.6"
  }
 },
 "nbformat": 4,
 "nbformat_minor": 0
}