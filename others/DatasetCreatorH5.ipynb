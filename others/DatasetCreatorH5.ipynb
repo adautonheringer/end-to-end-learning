{
 "cells": [
  {
   "cell_type": "code",
   "execution_count": 1,
   "metadata": {
    "jupyter": {
     "outputs_hidden": false
    },
    "pycharm": {
     "name": "#%%\n"
    }
   },
   "outputs": [],
   "source": [
    "import numpy as np\n",
    "import matplotlib.pyplot as plt\n",
    "import os\n",
    "import h5py\n",
    "import glob\n",
    "import cv2\n",
    "from PIL import Image"
   ]
  },
  {
   "cell_type": "code",
   "execution_count": 2,
   "outputs": [
    {
     "name": "stdout",
     "output_type": "stream",
     "text": [
      "107925\n"
     ]
    }
   ],
   "source": [
    "number_of_files = 0\n",
    "# number_of_files = 59925\n",
    "destination_dir = '/home/adauton/Desktop/dataset_autopilot_1hour_noise_norain/'\n",
    "source_dir = '/home/adauton/Documents/Mestrado/Tese/PythonAPI/dataset_autopilot_1hour_noise_norain/'\n",
    "\n",
    "for i in os.listdir(source_dir):\n",
    "    number_of_files += 1\n",
    "\n",
    "print(number_of_files)"
   ],
   "metadata": {
    "collapsed": false,
    "pycharm": {
     "name": "#%%\n"
    }
   }
  },
  {
   "cell_type": "code",
   "execution_count": 13,
   "outputs": [
    {
     "data": {
      "text/plain": "<HDF5 dataset \"labels\": shape (107925, 3), type \"<f4\">"
     },
     "execution_count": 13,
     "metadata": {},
     "output_type": "execute_result"
    }
   ],
   "source": [
    "data = h5py.File(destination_dir + 'dataset_autopilot_1hour_noise_norain.h5', 'w')\n",
    "data.create_dataset('images', shape=(number_of_files, 180, 300, 3), maxshape=(None, 180, 300, 3), dtype='uint8',chunks=True)\n",
    "data.create_dataset('input_2', shape=(number_of_files, 6), maxshape=(None, 6), chunks=True)\n",
    "data.create_dataset('labels', shape=(number_of_files, 3), maxshape=(None, 3), chunks=True)"
   ],
   "metadata": {
    "collapsed": false,
    "pycharm": {
     "name": "#%%\n"
    }
   }
  },
  {
   "cell_type": "code",
   "execution_count": 6,
   "outputs": [],
   "source": [],
   "metadata": {
    "collapsed": false,
    "pycharm": {
     "name": "#%%\n"
    }
   }
  },
  {
   "cell_type": "code",
   "execution_count": 14,
   "outputs": [
    {
     "name": "stdout",
     "output_type": "stream",
     "text": [
      "first 10000 elements computed\n",
      "first 20000 elements computed\n",
      "first 30000 elements computed\n",
      "first 40000 elements computed\n",
      "first 50000 elements computed\n",
      "first 60000 elements computed\n",
      "first 70000 elements computed\n",
      "first 80000 elements computed\n",
      "first 90000 elements computed\n",
      "first 100000 elements computed\n",
      "first 107925 elements computed\n"
     ]
    }
   ],
   "source": [
    "IMAGES = []\n",
    "INPUT_2 = []\n",
    "LABELS = []\n",
    "\n",
    "counter = 0\n",
    "start_index = 0\n",
    "exceptions = 0\n",
    "\n",
    "for index, file_name in enumerate(os.listdir(source_dir)):\n",
    "    try:\n",
    "        np_data = np.load(source_dir + file_name)\n",
    "    except:\n",
    "        exceptions += 1\n",
    "        print(f'something wrong with {file_name} - counter: {exceptions}')\n",
    "        continue\n",
    "\n",
    "    counter += 1\n",
    "\n",
    "    hlc = np.zeros((4,), dtype='uint8')\n",
    "    command = np_data['y'][3]\n",
    "    if command == 'Left':\n",
    "        hlc[0] = 1\n",
    "    elif command == 'Right':\n",
    "        hlc[1] = 1\n",
    "    elif command == 'Straight':\n",
    "        hlc[2] = 1\n",
    "    else:\n",
    "        hlc[3] = 1\n",
    "    speed_and_speed_limit = np_data['y'][4:6].astype(float)\n",
    "\n",
    "    image = np_data['x']\n",
    "    input_2 = np.concatenate((speed_and_speed_limit, hlc))\n",
    "    label = np_data['y'][:3].astype(float)\n",
    "\n",
    "    IMAGES.append(image)\n",
    "    INPUT_2.append(input_2)\n",
    "    LABELS.append(label)\n",
    "\n",
    "    if counter % 10000 == 0:\n",
    "        final_index = counter\n",
    "        data['images'][start_index:final_index] = IMAGES\n",
    "        data['input_2'][start_index:final_index] = INPUT_2\n",
    "        data['labels'][start_index:final_index] = LABELS\n",
    "\n",
    "        start_index = final_index\n",
    "\n",
    "        IMAGES = []\n",
    "        INPUT_2 = []\n",
    "        LABELS = []\n",
    "\n",
    "        print(f'first {counter} elements computed')\n",
    "\n",
    "data['images'][start_index:final_index] = IMAGES\n",
    "data['input_2'][start_index:final_index] = INPUT_2\n",
    "data['labels'][start_index:final_index] = LABELS\n",
    "\n",
    "start_index = final_index\n",
    "\n",
    "print(f'first {counter} elements computed')\n",
    "\n",
    "IMAGES = []\n",
    "INPUT_2 = []\n",
    "LABELS = []\n"
   ],
   "metadata": {
    "collapsed": false,
    "pycharm": {
     "name": "#%%\n"
    }
   }
  },
  {
   "cell_type": "code",
   "execution_count": 15,
   "outputs": [],
   "source": [
    "data.close()"
   ],
   "metadata": {
    "collapsed": false,
    "pycharm": {
     "name": "#%%\n"
    }
   }
  },
  {
   "cell_type": "code",
   "execution_count": 8,
   "metadata": {
    "pycharm": {
     "name": "#%%\n"
    }
   },
   "outputs": [],
   "source": [
    "for f in os.listdir(source_dir):\n",
    "    os.remove(os.path.join(source_dir, f))"
   ]
  },
  {
   "cell_type": "code",
   "execution_count": null,
   "outputs": [],
   "source": [],
   "metadata": {
    "collapsed": false,
    "pycharm": {
     "name": "#%%\n"
    }
   }
  }
 ],
 "metadata": {
  "kernelspec": {
   "display_name": "Python 3 (ipykernel)",
   "language": "python",
   "name": "python3"
  },
  "language_info": {
   "codemirror_mode": {
    "name": "ipython",
    "version": 3
   },
   "file_extension": ".py",
   "mimetype": "text/x-python",
   "name": "python",
   "nbconvert_exporter": "python",
   "pygments_lexer": "ipython3",
   "version": "3.8.10"
  }
 },
 "nbformat": 4,
 "nbformat_minor": 4
}