{
 "cells": [
  {
   "cell_type": "code",
   "execution_count": 1,
   "metadata": {
    "collapsed": true,
    "pycharm": {
     "name": "#%%\n"
    }
   },
   "outputs": [
    {
     "name": "stdout",
     "output_type": "stream",
     "text": [
      "pygame 2.0.1 (SDL 2.0.14, Python 3.8.10)\n",
      "Hello from the pygame community. https://www.pygame.org/contribute.html\n"
     ]
    },
    {
     "name": "stderr",
     "output_type": "stream",
     "text": [
      "2022-08-19 15:23:52.490140: W tensorflow/stream_executor/platform/default/dso_loader.cc:64] Could not load dynamic library 'libcudart.so.11.0'; dlerror: libcudart.so.11.0: cannot open shared object file: No such file or directory\n",
      "2022-08-19 15:23:52.490158: I tensorflow/stream_executor/cuda/cudart_stub.cc:29] Ignore above cudart dlerror if you do not have a GPU set up on your machine.\n"
     ]
    }
   ],
   "source": [
    "import pygame\n",
    "import numpy as np\n",
    "from keras.models import load_model\n",
    "import carla\n",
    "from agents.navigation.basic_agent import BasicAgent\n",
    "import tensorflow as tf\n",
    "import math"
   ]
  },
  {
   "cell_type": "markdown",
   "source": [
    "Connect to simulator"
   ],
   "metadata": {
    "collapsed": false,
    "pycharm": {
     "name": "#%% md\n"
    }
   }
  },
  {
   "cell_type": "code",
   "execution_count": 2,
   "outputs": [],
   "source": [
    "client = carla.Client('192.168.5.145', 2000)\n",
    "client.set_timeout(4.0)\n",
    "client.load_world('Town02')\n",
    "traffic_manager = client.get_trafficmanager()\n",
    "world = client.get_world()\n",
    "world.set_weather(carla.WeatherParameters.CloudySunset)\n"
   ],
   "metadata": {
    "collapsed": false,
    "pycharm": {
     "name": "#%%\n"
    }
   }
  },
  {
   "cell_type": "markdown",
   "source": [
    "Set Synchronous FPS"
   ],
   "metadata": {
    "collapsed": false,
    "pycharm": {
     "name": "#%% md\n"
    }
   }
  },
  {
   "cell_type": "code",
   "execution_count": 3,
   "outputs": [],
   "source": [
    "settings = world.get_settings()\n",
    "settings.synchronous_mode = True\n",
    "settings.fixed_delta_seconds = 0.05\n",
    "world.apply_settings(settings)\n",
    "traffic_manager.set_synchronous_mode(True)"
   ],
   "metadata": {
    "collapsed": false,
    "pycharm": {
     "name": "#%%\n"
    }
   }
  },
  {
   "cell_type": "markdown",
   "source": [
    "Add Vehicle to right location"
   ],
   "metadata": {
    "collapsed": false,
    "pycharm": {
     "name": "#%% md\n"
    }
   }
  },
  {
   "cell_type": "code",
   "execution_count": 4,
   "outputs": [],
   "source": [
    "start_location = carla.Location(x=-7.530004, y=234.110001, z=0.500000)\n",
    "end_location = carla.Location(x=166.914505, y=191.770035, z=0.500000)\n",
    "back_location = carla.Location(x=173.870056, y=105.550011, z=0.500000)\n",
    "back_transform = carla.Transform(back_location, carla.Rotation(pitch=0.000000, yaw=-180, roll=0.000000))\n",
    "start_transform = carla.Transform(start_location, carla.Rotation(yaw=90))\n",
    "end_transform = carla.Transform(start_location, carla.Rotation(yaw=0))\n",
    "bp_lib = world.get_blueprint_library()\n",
    "vehicle_bp = bp_lib.find('vehicle.lincoln.mkz_2020')\n",
    "vehicle = world.try_spawn_actor(vehicle_bp, start_transform)\n",
    "world.get_spectator().set_transform(start_transform)"
   ],
   "metadata": {
    "collapsed": false,
    "pycharm": {
     "name": "#%%\n"
    }
   }
  },
  {
   "cell_type": "code",
   "execution_count": 5,
   "outputs": [],
   "source": [
    "vehicle.set_transform(start_transform)"
   ],
   "metadata": {
    "collapsed": false,
    "pycharm": {
     "name": "#%%\n"
    }
   }
  },
  {
   "cell_type": "markdown",
   "source": [],
   "metadata": {
    "collapsed": false,
    "pycharm": {
     "name": "#%% md\n"
    }
   }
  },
  {
   "cell_type": "code",
   "execution_count": 6,
   "outputs": [],
   "source": [
    "traffic_manager.ignore_lights_percentage(vehicle, 100)\n",
    "path_list = [start_location, end_location, back_location, start_location, end_location, back_location, start_location]\n",
    "traffic_manager.set_path(vehicle, path_list, empty_buffer=True)\n",
    "vehicle.set_autopilot(True)"
   ],
   "metadata": {
    "collapsed": false,
    "pycharm": {
     "name": "#%%\n"
    }
   }
  },
  {
   "cell_type": "code",
   "execution_count": 7,
   "outputs": [
    {
     "name": "stdout",
     "output_type": "stream",
     "text": [
      "-52468318208.0\n",
      "0.0\n"
     ]
    }
   ],
   "source": [
    "print(vehicle.get_control().steer)\n",
    "world.tick()\n",
    "print(vehicle.get_control().steer)"
   ],
   "metadata": {
    "collapsed": false,
    "pycharm": {
     "name": "#%%\n"
    }
   }
  },
  {
   "cell_type": "code",
   "execution_count": 8,
   "outputs": [],
   "source": [
    "# location = vehicle.get_location()\n",
    "# transform = vehicle.get_transform()\n",
    "# rotation = transform.rotation\n",
    "#\n",
    "# vehicle.set_transform(\n",
    "#     carla.Transform(\n",
    "#         carla.Location(x=location.x + 1, y=location.y, z=location.z),\n",
    "#         carla.Rotation(pitch=rotation.pitch, yaw=rotation.yaw, roll=rotation.roll)))"
   ],
   "metadata": {
    "collapsed": false,
    "pycharm": {
     "name": "#%%\n"
    }
   }
  },
  {
   "cell_type": "code",
   "execution_count": 9,
   "outputs": [],
   "source": [
    "# while True:\n",
    "#     world.tick()\n",
    "#     transform = carla.Transform(vehicle.get_transform().transform(carla.Location(x=-4, z=2.5)),\n",
    "#                                 vehicle.get_transform().rotation)\n",
    "#     world.get_spectator().set_transform(transform)\n",
    "#     # if 160 < vehicle.get_location().x < 170 & 185 < vehicle.get_location().y < 195:\n",
    "#     #     print('end')\n",
    "#     #     break\n",
    "#     #     traffic_manager.set_path(vehicle, [end_location, start_location], empty_buffer=True)\n",
    "#     # if -12 < vehicle.get_location().x < -2 & 229 < vehicle.get_location().y < 240:\n",
    "#     #     break\n",
    "#     #     print('start')\n",
    "#     #     traffic_manager.set_path(vehicle, [start_location, end_location], empty_buffer=True)\n",
    "#     # print(traffic_manager.get_next_action(vehicle))\n",
    "#     print(traffic_manager.get_all_actions(vehicle))\n",
    "\n"
   ],
   "metadata": {
    "collapsed": false,
    "pycharm": {
     "name": "#%%\n"
    }
   }
  },
  {
   "cell_type": "markdown",
   "source": [
    "Add agent with destination"
   ],
   "metadata": {
    "collapsed": false,
    "pycharm": {
     "name": "#%% md\n"
    }
   }
  },
  {
   "cell_type": "code",
   "execution_count": 10,
   "outputs": [],
   "source": [
    "opt_dict = {\"ignore_traffic_lights\": True, \"ignore_stop_signs\": True}\n",
    "agent = BasicAgent(vehicle=vehicle, target_speed=15, opt_dict=opt_dict)\n",
    "agent.set_destination(end_location=end_location, start_location=start_location)"
   ],
   "metadata": {
    "collapsed": false,
    "pycharm": {
     "name": "#%%\n"
    }
   }
  },
  {
   "cell_type": "markdown",
   "source": [
    "Define Callback for Pygame"
   ],
   "metadata": {
    "collapsed": false,
    "pycharm": {
     "name": "#%% md\n"
    }
   }
  },
  {
   "cell_type": "code",
   "execution_count": 11,
   "outputs": [],
   "source": [
    "# Render object to keep and pass the PyGame surface\n",
    "class RenderObject(object):\n",
    "    def __init__(self, width, height):\n",
    "        init_image = np.random.randint(0, 255, (height, width, 3), dtype='uint8')\n",
    "        self.surface = pygame.surfarray.make_surface(init_image.swapaxes(0, 1))\n",
    "\n",
    "\n",
    "# Camera sensor callback, reshapes raw data from camera into 2D RGB and applies to PyGame surface\n",
    "def front_camera_callback(data, obj, trainer, _agent):\n",
    "    img = np.reshape(np.copy(data.raw_data), (data.height, data.width, 4))\n",
    "    img = img[:, :, :3]\n",
    "    img = img[:, :, ::-1]\n",
    "    obj.surface = pygame.surfarray.make_surface(img.swapaxes(0, 1))\n",
    "    # reshaped_image = np.expand_dims(img, axis=0)\n",
    "    #\n",
    "    # vel = vehicle.get_velocity()\n",
    "    # current_speed = (3.6 * math.sqrt(vel.x ** 2 + vel.y ** 2 + vel.z ** 2))\n",
    "    # speed_limit = vehicle.get_speed_limit()\n",
    "    #\n",
    "    # _agent.get_local_planner().run_step(True)\n",
    "    # high_level = int(_agent.get_local_planner().get_incoming_waypoint_and_direction(0)[1].value)\n",
    "    # print(high_level)\n",
    "    #\n",
    "    # hlc = np.zeros((1, 6))\n",
    "    # hlc[0][0] = current_speed\n",
    "    # hlc[0][1] = speed_limit\n",
    "    # if high_level == 1:\n",
    "    #     hlc[0][2] = 1\n",
    "    # elif high_level == 2:\n",
    "    #     hlc[0][3] = 1\n",
    "    # elif high_level == 3:\n",
    "    #     hlc[0][4] = 1\n",
    "    # else:\n",
    "    #     hlc[0][5] = 1\n",
    "    #\n",
    "    # prediction = trainer.model.predict([reshaped_image, hlc])\n",
    "    # trainer.control.steer = float(prediction[0][0])\n",
    "    # trainer.control.throttle = float(prediction[0][1])"
   ],
   "metadata": {
    "collapsed": false,
    "pycharm": {
     "name": "#%%\n"
    }
   }
  },
  {
   "cell_type": "markdown",
   "source": [
    "Create ModelTrainer"
   ],
   "metadata": {
    "collapsed": false,
    "pycharm": {
     "name": "#%% md\n"
    }
   }
  },
  {
   "cell_type": "code",
   "execution_count": 12,
   "outputs": [
    {
     "name": "stderr",
     "output_type": "stream",
     "text": [
      "2022-08-19 15:24:02.893617: I tensorflow/stream_executor/cuda/cuda_gpu_executor.cc:975] successful NUMA node read from SysFS had negative value (-1), but there must be at least one NUMA node, so returning NUMA node zero\n",
      "2022-08-19 15:24:02.893803: W tensorflow/stream_executor/platform/default/dso_loader.cc:64] Could not load dynamic library 'libcudart.so.11.0'; dlerror: libcudart.so.11.0: cannot open shared object file: No such file or directory\n",
      "2022-08-19 15:24:02.893847: W tensorflow/stream_executor/platform/default/dso_loader.cc:64] Could not load dynamic library 'libcublas.so.11'; dlerror: libcublas.so.11: cannot open shared object file: No such file or directory\n",
      "2022-08-19 15:24:02.893887: W tensorflow/stream_executor/platform/default/dso_loader.cc:64] Could not load dynamic library 'libcublasLt.so.11'; dlerror: libcublasLt.so.11: cannot open shared object file: No such file or directory\n",
      "2022-08-19 15:24:02.893928: W tensorflow/stream_executor/platform/default/dso_loader.cc:64] Could not load dynamic library 'libcufft.so.10'; dlerror: libcufft.so.10: cannot open shared object file: No such file or directory\n",
      "2022-08-19 15:24:02.893967: W tensorflow/stream_executor/platform/default/dso_loader.cc:64] Could not load dynamic library 'libcurand.so.10'; dlerror: libcurand.so.10: cannot open shared object file: No such file or directory\n",
      "2022-08-19 15:24:02.894005: W tensorflow/stream_executor/platform/default/dso_loader.cc:64] Could not load dynamic library 'libcusolver.so.11'; dlerror: libcusolver.so.11: cannot open shared object file: No such file or directory\n",
      "2022-08-19 15:24:02.894044: W tensorflow/stream_executor/platform/default/dso_loader.cc:64] Could not load dynamic library 'libcusparse.so.11'; dlerror: libcusparse.so.11: cannot open shared object file: No such file or directory\n",
      "2022-08-19 15:24:02.894149: W tensorflow/core/common_runtime/gpu/gpu_device.cc:1850] Cannot dlopen some GPU libraries. Please make sure the missing libraries mentioned above are installed properly if you would like to use GPU. Follow the guide at https://www.tensorflow.org/install/gpu for how to download and setup the required libraries for your platform.\n",
      "Skipping registering GPU devices...\n",
      "2022-08-19 15:24:02.894339: I tensorflow/core/platform/cpu_feature_guard.cc:193] This TensorFlow binary is optimized with oneAPI Deep Neural Network Library (oneDNN) to use the following CPU instructions in performance-critical operations:  AVX2 FMA\n",
      "To enable them in other operations, rebuild TensorFlow with the appropriate compiler flags.\n"
     ]
    }
   ],
   "source": [
    "class ModelTrainer(object):\n",
    "    def __init__(self, path: str):\n",
    "        self.model = self.model = load_model(path)\n",
    "        self.control = carla.VehicleControl()\n",
    "\n",
    "\n",
    "model_trainer = ModelTrainer('CNN_Models/hege_1hour_town02_no_val_speed_limit')"
   ],
   "metadata": {
    "collapsed": false,
    "pycharm": {
     "name": "#%%\n"
    }
   }
  },
  {
   "cell_type": "markdown",
   "source": [
    "Add front camera"
   ],
   "metadata": {
    "collapsed": false,
    "pycharm": {
     "name": "#%% md\n"
    }
   }
  },
  {
   "cell_type": "code",
   "execution_count": 13,
   "outputs": [],
   "source": [
    "# location = vehicle.get_location()\n",
    "# transform = vehicle.get_transform()\n",
    "# rotation = transform.rotation\n",
    "#\n",
    "# cm_transform = carla.Transform(\n",
    "#     carla.Location(x=location.x, y=location.y, z=location.z),\n",
    "#     carla.Rotation(pitch=rotation.pitch, yaw=rotation.yaw + 30, roll=rotation.roll))\n",
    "\n",
    "front_camera_bp = bp_lib.find('sensor.camera.rgb')\n",
    "front_camera_bp.set_attribute('image_size_x', '300')\n",
    "front_camera_bp.set_attribute('image_size_y', '180')\n",
    "front_camera_transform = carla.Transform(carla.Location(x=1.6, z=1.7),\n",
    "                                         carla.Rotation(yaw=30))\n",
    "front_camera = world.spawn_actor(front_camera_bp, front_camera_transform, attach_to=vehicle)"
   ],
   "metadata": {
    "collapsed": false,
    "pycharm": {
     "name": "#%%\n"
    }
   }
  },
  {
   "cell_type": "code",
   "execution_count": 13,
   "outputs": [],
   "source": [],
   "metadata": {
    "collapsed": false,
    "pycharm": {
     "name": "#%%\n"
    }
   }
  },
  {
   "cell_type": "code",
   "execution_count": 13,
   "outputs": [],
   "source": [],
   "metadata": {
    "collapsed": false,
    "pycharm": {
     "name": "#%%\n"
    }
   }
  },
  {
   "cell_type": "markdown",
   "source": [
    "Call pygame callback"
   ],
   "metadata": {
    "collapsed": false,
    "pycharm": {
     "name": "#%% md\n"
    }
   }
  },
  {
   "cell_type": "code",
   "execution_count": 14,
   "outputs": [],
   "source": [
    "image_w = front_camera_bp.get_attribute(\"image_size_x\").as_int()\n",
    "image_h = front_camera_bp.get_attribute(\"image_size_y\").as_int()\n",
    "renderObject = RenderObject(image_w, image_h)\n",
    "front_camera.listen(lambda image: front_camera_callback(image, renderObject, model_trainer, agent))"
   ],
   "metadata": {
    "collapsed": false,
    "pycharm": {
     "name": "#%%\n"
    }
   }
  },
  {
   "cell_type": "markdown",
   "source": [
    "Initialize pygame display"
   ],
   "metadata": {
    "collapsed": false,
    "pycharm": {
     "name": "#%% md\n"
    }
   }
  },
  {
   "cell_type": "code",
   "execution_count": 15,
   "outputs": [],
   "source": [
    "pygame.init()\n",
    "display = pygame.display.set_mode((image_w, image_h), pygame.HWSURFACE | pygame.DOUBLEBUF)\n",
    "display.fill((0, 0, 0))\n",
    "display.blit(renderObject.surface, (0, 0))\n",
    "pygame.display.flip()"
   ],
   "metadata": {
    "collapsed": false,
    "pycharm": {
     "name": "#%%\n"
    }
   }
  },
  {
   "cell_type": "code",
   "execution_count": 11,
   "outputs": [],
   "source": [
    "traffic_manager.ignore_lights_percentage(vehicle, 100)\n",
    "vehicle.set_autopilot(False)"
   ],
   "metadata": {
    "collapsed": false,
    "pycharm": {
     "name": "#%%\n"
    }
   }
  },
  {
   "cell_type": "code",
   "execution_count": 16,
   "outputs": [],
   "source": [
    "crashed = False\n",
    "while not crashed:\n",
    "    world.tick()\n",
    "    transform = carla.Transform(vehicle.get_transform().transform(carla.Location(x=-4, z=2.5)),\n",
    "                                vehicle.get_transform().rotation)\n",
    "    world.get_spectator().set_transform(transform)\n",
    "    # vehicle.apply_control(model_trainer.control)\n",
    "    display.blit(renderObject.surface, (0, 0))\n",
    "    pygame.display.flip()\n",
    "    for event in pygame.event.get():\n",
    "        if event.type == pygame.QUIT:\n",
    "            crashed = True"
   ],
   "metadata": {
    "collapsed": false,
    "pycharm": {
     "name": "#%%\n"
    }
   }
  },
  {
   "cell_type": "code",
   "execution_count": null,
   "outputs": [],
   "source": [],
   "metadata": {
    "collapsed": false,
    "pycharm": {
     "name": "#%%\n"
    }
   }
  }
 ],
 "metadata": {
  "kernelspec": {
   "display_name": "Python 3",
   "language": "python",
   "name": "python3"
  },
  "language_info": {
   "codemirror_mode": {
    "name": "ipython",
    "version": 2
   },
   "file_extension": ".py",
   "mimetype": "text/x-python",
   "name": "python",
   "nbconvert_exporter": "python",
   "pygments_lexer": "ipython2",
   "version": "2.7.6"
  }
 },
 "nbformat": 4,
 "nbformat_minor": 0
}
